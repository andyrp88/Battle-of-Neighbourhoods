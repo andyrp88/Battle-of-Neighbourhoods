{
    "cells": [
        {
            "cell_type": "markdown",
            "metadata": {
                "collapsed": true
            },
            "source": "The Battle of the Neighbourhoods - Introduction & Business Problem\n\nData :\nOne city will be analysed in this project: Toronto\n\nWe will be using the following datasets:\n\nData 1 : Dataset containing the list of all neighbourhoods in Toronto, as well as the latitude and longitude of each neighbourhood: https://en.wikipedia.org/wiki/Demographics_of_Toronto_neighbourhoods\n\nData 2 : The following data will be retrieved from Wikipedia\n\n    Toronto Population\n    Toronto Demographics\n\nhttps://en.wikipedia.org/wiki/Toronto\nhttps://en.wikipedia.org/wiki/Economy_of_toronto\n\nData 3 : Toronto's geographical coordinates will be utilized as input for the Foursquare API, that will be leveraged to provision venue information for each neighbourhood. We will use the Foursquare API to explore neighbourhoods in Toronto. \nLink to the dataset is: https://developer.foursquare.com/docs/data\n"
        }
    ],
    "metadata": {
        "kernelspec": {
            "display_name": "Python 3.6",
            "language": "python",
            "name": "python3"
        },
        "language_info": {
            "codemirror_mode": {
                "name": "ipython",
                "version": 3
            },
            "file_extension": ".py",
            "mimetype": "text/x-python",
            "name": "python",
            "nbconvert_exporter": "python",
            "pygments_lexer": "ipython3",
            "version": "3.6.9"
        }
    },
    "nbformat": 4,
    "nbformat_minor": 1
}