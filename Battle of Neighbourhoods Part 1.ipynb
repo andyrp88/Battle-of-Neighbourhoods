{
    "cells": [
        {
            "cell_type": "markdown",
            "metadata": {
                "collapsed": true
            },
            "source": "The Battle of the Neighborhoods - Introduction & Business Problem\nProblem Background:\n\nThe City of Toronto, is the most populous city in Canada. It is diverse and is the financial capital of Canada. The city is a major center for banking and finance, retailing, tourism, real estate, advertising, legal services, insurance, theater, and the arts in the Canada. Hence, the market is highly competitive. Toronto has 140 neighbourhoods and a population of 2.9 million. It also receives about 43 million visitors every year. \n\nProblem Description:\n\nCompany ABC is planning to open a brand new hotel in Toronto and needs to select the best area to open its first location. If successful, the hotel will be able to open subsequent locations in other areas. Therefore, the selection of the first location is very important.\n\nVarious factors need to be studied in order to decide in which location to open a new hotel, including :\n\n    What is the population?\n    What is the demographic?\n    What are the most well-visited areas in the city?\n    What is the segmentation of the borough?\n\nTarget Audience:\nTo recommend the correct location, Company ABC has hired my Data Science team to complete a thorough analysis. The objective of this analysis is to privde a recommendation to Company ABC on which neighborhood of Toronto will be best area to open a new hotel. The analysis should include a detailed description of the rationale of the recommendations made.\n\nSuccess Criteria:\nThe success criteria of the project will be a good recommendation of borough/neighborhood choice to Company ABC based on population density in the area.\n"
        }
    ],
    "metadata": {
        "kernelspec": {
            "display_name": "Python 3.6",
            "language": "python",
            "name": "python3"
        },
        "language_info": {
            "codemirror_mode": {
                "name": "ipython",
                "version": 3
            },
            "file_extension": ".py",
            "mimetype": "text/x-python",
            "name": "python",
            "nbconvert_exporter": "python",
            "pygments_lexer": "ipython3",
            "version": "3.6.9"
        }
    },
    "nbformat": 4,
    "nbformat_minor": 1
}